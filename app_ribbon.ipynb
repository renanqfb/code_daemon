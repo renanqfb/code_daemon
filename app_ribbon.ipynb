{
 "cells": [
  {
   "cell_type": "code",
   "execution_count": 5,
   "metadata": {
    "collapsed": true
   },
   "outputs": [],
   "source": [
    "import streamlit as st\n",
    "\n",
    "st.header('MA - Ribbon - Upon')\n",
    "st.write('hello world')\n"
   ]
  }
 ],
 "metadata": {
  "kernelspec": {
   "name": "pycharm-59b787bb",
   "language": "python",
   "display_name": "PyCharm (Upon)"
  },
  "language_info": {
   "codemirror_mode": {
    "name": "ipython",
    "version": 2
   },
   "file_extension": ".py",
   "mimetype": "text/x-python",
   "name": "python",
   "nbconvert_exporter": "python",
   "pygments_lexer": "ipython2",
   "version": "2.7.6"
  }
 },
 "nbformat": 4,
 "nbformat_minor": 0
}